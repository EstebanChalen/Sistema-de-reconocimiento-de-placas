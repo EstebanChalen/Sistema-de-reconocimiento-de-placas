{
 "cells": [
  {
   "cell_type": "code",
   "execution_count": 1,
   "id": "ad410874-135b-4649-b631-07a55235b828",
   "metadata": {
    "execution": {
     "iopub.execute_input": "2025-02-07T15:29:53.016602Z",
     "iopub.status.busy": "2025-02-07T15:29:53.015605Z",
     "iopub.status.idle": "2025-02-07T15:29:54.838258Z",
     "shell.execute_reply": "2025-02-07T15:29:54.837267Z"
    }
   },
   "outputs": [
    {
     "name": "stdout",
     "output_type": "stream",
     "text": [
      "Requirement already satisfied: opencv-python in c:\\users\\tuf gaming f15\\appdata\\local\\programs\\python\\python311\\lib\\site-packages (4.11.0.86)\n",
      "Requirement already satisfied: numpy>=1.21.2 in c:\\users\\tuf gaming f15\\appdata\\local\\programs\\python\\python311\\lib\\site-packages (from opencv-python) (1.26.4)\n",
      "Note: you may need to restart the kernel to use updated packages.\n"
     ]
    }
   ],
   "source": [
    "pip install opencv-python\n"
   ]
  },
  {
   "cell_type": "code",
   "execution_count": 2,
   "id": "56b3b3ff-8a62-434b-b299-c7a0cc69ce16",
   "metadata": {
    "execution": {
     "iopub.execute_input": "2025-02-07T15:29:54.841267Z",
     "iopub.status.busy": "2025-02-07T15:29:54.841267Z",
     "iopub.status.idle": "2025-02-07T15:29:56.549745Z",
     "shell.execute_reply": "2025-02-07T15:29:56.548738Z"
    }
   },
   "outputs": [
    {
     "name": "stdout",
     "output_type": "stream",
     "text": [
      "Requirement already satisfied: pytesseract in c:\\users\\tuf gaming f15\\appdata\\local\\programs\\python\\python311\\lib\\site-packages (0.3.13)\n",
      "Requirement already satisfied: packaging>=21.3 in c:\\users\\tuf gaming f15\\appdata\\local\\programs\\python\\python311\\lib\\site-packages (from pytesseract) (24.0)\n",
      "Requirement already satisfied: Pillow>=8.0.0 in c:\\users\\tuf gaming f15\\appdata\\local\\programs\\python\\python311\\lib\\site-packages (from pytesseract) (10.3.0)\n",
      "Note: you may need to restart the kernel to use updated packages.\n"
     ]
    }
   ],
   "source": [
    "pip install pytesseract\n"
   ]
  },
  {
   "cell_type": "code",
   "execution_count": 3,
   "id": "d01659f4-c2e2-45ea-bb8d-8a1d08e405ff",
   "metadata": {
    "execution": {
     "iopub.execute_input": "2025-02-07T15:29:56.552745Z",
     "iopub.status.busy": "2025-02-07T15:29:56.552745Z",
     "iopub.status.idle": "2025-02-07T15:29:57.658204Z",
     "shell.execute_reply": "2025-02-07T15:29:57.658204Z"
    }
   },
   "outputs": [
    {
     "name": "stdout",
     "output_type": "stream",
     "text": [
      "Requirement already satisfied: pyserial in c:\\users\\tuf gaming f15\\appdata\\local\\programs\\python\\python311\\lib\\site-packages (3.5)\n",
      "Note: you may need to restart the kernel to use updated packages.\n"
     ]
    }
   ],
   "source": [
    "pip install pyserial\n"
   ]
  },
  {
   "cell_type": "code",
   "execution_count": 4,
   "id": "260384e7-eeec-4865-92c9-7f98f4003ce3",
   "metadata": {
    "execution": {
     "iopub.execute_input": "2025-02-07T15:29:57.663212Z",
     "iopub.status.busy": "2025-02-07T15:29:57.662213Z",
     "iopub.status.idle": "2025-02-07T15:35:08.973645Z",
     "shell.execute_reply": "2025-02-07T15:35:08.970627Z"
    }
   },
   "outputs": [
    {
     "name": "stdout",
     "output_type": "stream",
     "text": [
      "Presiona 'q' para salir.\n"
     ]
    },
    {
     "name": "stdout",
     "output_type": "stream",
     "text": [
      "Matricula detectada: 2424 - No autorizado\n",
      "Error al enviar comando al Arduino: name 'arduino' is not defined\n"
     ]
    },
    {
     "name": "stdout",
     "output_type": "stream",
     "text": [
      "Matricula detectada: B3424I - No autorizado\n",
      "Error al enviar comando al Arduino: name 'arduino' is not defined\n"
     ]
    },
    {
     "name": "stdout",
     "output_type": "stream",
     "text": [
      "Matricula detectada: ABB-3424 - Autorizado\n",
      "Error al enviar comando al Arduino: name 'arduino' is not defined\n"
     ]
    }
   ],
   "source": [
    "import cv2\n",
    "import pytesseract\n",
    "import mysql.connector\n",
    "import time\n",
    "import tkinter as tk\n",
    "from tkinter import messagebox\n",
    "import serial  # Para la comunicación con Arduino\n",
    "\n",
    "# Configurar Tesseract\n",
    "pytesseract.pytesseract.tesseract_cmd = r\"C:\\Program Files\\Tesseract-OCR\\tesseract.exe\"\n",
    "\n",
    "#arduino = serial.Serial(port=\"COM3\", baudrate=9600, timeout=1)  # Cambia \"COM3\" según corresponda\n",
    "\n",
    "# Conexión a la base de datos MySQL\n",
    "def setup_mysql_connection():\n",
    "    try:\n",
    "        conn = mysql.connector.connect(\n",
    "            host=\"localhost\",\n",
    "            user=\"root\",\n",
    "            password=\"\",\n",
    "            database=\"pf_v4\"\n",
    "        )\n",
    "        return conn\n",
    "    except mysql.connector.Error as err:\n",
    "        print(f\"Error: {err}\")\n",
    "        return None\n",
    "\n",
    "# Función para enviar comandos al Arduino\n",
    "def enviar_comando_arduino(comando):\n",
    "    try:\n",
    "        arduino.write(comando.encode())  # Enviar el comando como bytes\n",
    "        time.sleep(0.1)  # Esperar un poco para asegurar la transmisión\n",
    "    except Exception as e:\n",
    "        print(f\"Error al enviar comando al Arduino: {e}\")\n",
    "\n",
    "# Función para formatear la matrícula\n",
    "def format_plate(plate_text):\n",
    "    if len(plate_text) == 7 and '-' not in plate_text:\n",
    "        plate_text = plate_text[:3] + '-' + plate_text[3:]\n",
    "    return plate_text\n",
    "\n",
    "# Preprocesar imagen para OCR\n",
    "def preprocess_for_ocr(plate_img):\n",
    "    gray_plate = cv2.cvtColor(plate_img, cv2.COLOR_BGR2GRAY)\n",
    "    blurred_plate = cv2.GaussianBlur(gray_plate, (5, 5), 0)\n",
    "    _, thresh_plate = cv2.threshold(blurred_plate, 0, 255, cv2.THRESH_BINARY + cv2.THRESH_OTSU)\n",
    "    return thresh_plate\n",
    "\n",
    "# Mostrar resultados en una ventana\n",
    "from PIL import Image, ImageTk\n",
    "import tkinter as tk\n",
    "\n",
    "def mostrar_resultados_en_ventana(placa, status, persona=None, fecha_hora=None):\n",
    "    ventana = tk.Tk()\n",
    "    ventana.title(\"Resultado de Deteccion\")\n",
    "    ventana.geometry(\"500x500\")\n",
    "\n",
    "    # Ruta al logo\n",
    "    logo_path = \"C://Users//TUF GAMING F15//Downloads//logo tec.png\"\n",
    "\n",
    "    try:\n",
    "        # Cargar y mostrar el logo\n",
    "        logo_image = Image.open(logo_path)\n",
    "        logo_image = logo_image.resize((200, 100), Image.LANCZOS)  # Redimensionar sin usar ANTIALIAS\n",
    "        logo_photo = ImageTk.PhotoImage(logo_image)\n",
    "        label_logo = tk.Label(ventana, image=logo_photo)\n",
    "        label_logo.image = logo_photo\n",
    "        label_logo.pack(pady=10)\n",
    "    except Exception as e:\n",
    "        print(f\"Error al cargar el logo: {e}\")\n",
    "\n",
    "    # Información debajo del logo\n",
    "    label_placa = tk.Label(ventana, text=f\"Placa Detectada: {placa}\", font=(\"Arial\", 16))\n",
    "    label_placa.pack(pady=15)\n",
    "\n",
    "    label_status = tk.Label(ventana, text=f\"Estado: {status}\", font=(\"Arial\", 16), fg=\"green\" if status == \"Autorizado\" else \"red\")\n",
    "    label_status.pack(pady=10)\n",
    "\n",
    "    if status == \"Autorizado\" and persona and fecha_hora:\n",
    "        label_persona = tk.Label(ventana, text=f\"Propietario: {persona}\", font=(\"Arial\", 14))\n",
    "        label_persona.pack(pady=5)\n",
    "\n",
    "        label_fecha_hora = tk.Label(ventana, text=f\"Fecha y Hora: {fecha_hora}\", font=(\"Arial\", 14))\n",
    "        label_fecha_hora.pack(pady=5)\n",
    "\n",
    "    boton_cerrar = tk.Button(ventana, text=\"Cerrar\", command=ventana.destroy, font=(\"Arial\", 14))\n",
    "    boton_cerrar.pack(pady=30)\n",
    "\n",
    "    ventana.mainloop()\n",
    "\n",
    "\n",
    "\n",
    "# Detección y comparación de matrículas\n",
    "def detect_license_plate_from_camera():\n",
    "    conn = setup_mysql_connection()\n",
    "    if conn is None:\n",
    "        print(\"No se pudo conectar a la base de datos.\")\n",
    "        return\n",
    "\n",
    "    cursor = conn.cursor()\n",
    "    cap = cv2.VideoCapture(0)\n",
    "    if not cap.isOpened():\n",
    "        print(\"No se puede acceder a la cámara.\")\n",
    "        return\n",
    "\n",
    "    plate_cascade = cv2.CascadeClassifier(cv2.data.haarcascades + 'haarcascade_russian_plate_number.xml')\n",
    "    if plate_cascade.empty():\n",
    "        print(\"No se pudo cargar el modelo de detección de placas.\")\n",
    "        return\n",
    "\n",
    "    cv2.namedWindow(\"Deteccion de Placas\", cv2.WINDOW_NORMAL)\n",
    "    cv2.setWindowProperty(\"Deteccion de Placas\", cv2.WND_PROP_FULLSCREEN, cv2.WINDOW_FULLSCREEN)\n",
    "\n",
    "    print(\"Presiona 'q' para salir.\")\n",
    "\n",
    "    last_detection_time = 0  # Inicializar el tiempo de la última detección\n",
    "    detection_interval = 5   # Intervalo en segundos entre lecturas\n",
    "\n",
    "    while True:\n",
    "        ret, frame = cap.read()\n",
    "        if not ret:\n",
    "            print(\"No se pudo recibir el cuadro de la cámara.\")\n",
    "            break\n",
    "\n",
    "        gray = cv2.cvtColor(frame, cv2.COLOR_BGR2GRAY)\n",
    "        plates = plate_cascade.detectMultiScale(gray, 1.1, 10)\n",
    "        \n",
    "\n",
    "        # Verificar si ha pasado suficiente tiempo desde la última detección\n",
    "        current_time = time.time()\n",
    "        if current_time - last_detection_time >= detection_interval:\n",
    "            for (x, y, w, h) in plates:\n",
    "                cv2.rectangle(frame, (x, y), (x + w, y + h), (0, 255, 0), 2)\n",
    "                plate_img = frame[y:y+h, x:x+w]\n",
    "                plate_img = preprocess_for_ocr(plate_img)\n",
    "\n",
    "                try:\n",
    "                    # Detectar el texto de la matrícula\n",
    "                    plate_text = pytesseract.image_to_string(plate_img, config='--psm 7 -c tessedit_char_whitelist=ABCDEFGHIJKLMNOPQRSTUVWXYZ0123456789').strip()\n",
    "                    if plate_text:\n",
    "                        # Limpiar texto y agregar guion si es necesario\n",
    "                        plate_text = ''.join(filter(str.isalnum, plate_text))  # Limpiar caracteres no válidos\n",
    "                        plate_text = format_plate(plate_text)  # Formatear texto detectado\n",
    "\n",
    "                        # Verificar si la placa ya existe en la tabla placadetectada\n",
    "                        insert_query_placadetectada = '''\n",
    "                            INSERT INTO placadetectada (placa_detectada)\n",
    "                            SELECT %s\n",
    "                            WHERE NOT EXISTS (\n",
    "                                SELECT 1 FROM placadetectada WHERE placa_detectada = %s\n",
    "                            )\n",
    "                        '''\n",
    "                        cursor.execute(insert_query_placadetectada, (plate_text, plate_text))\n",
    "                        conn.commit()\n",
    "\n",
    "                        # Consultar si la placa detectada coincide con algún vehículo\n",
    "                        select_query = '''\n",
    "                            SELECT v.id_vehiculo, d.nombre_docente AS propietario, NOW() AS fecha_hora\n",
    "                            FROM vehiculo v\n",
    "                            JOIN docente d ON v.id_docente = d.id_docente\n",
    "                            WHERE v.placa = %s\n",
    "                        '''\n",
    "                        cursor.execute(select_query, (plate_text,))\n",
    "                        result = cursor.fetchone()\n",
    "\n",
    "                        if result:\n",
    "                            id_vehiculo, propietario, fecha_hora = result\n",
    "                        else:\n",
    "                            id_vehiculo = propietario = fecha_hora = None\n",
    "\n",
    "                        # Insertar en la tabla deteccion (Autorizado o No Autorizado)\n",
    "                        insert_query_deteccion = '''\n",
    "                            INSERT INTO deteccion (id_vehiculo, id_placa_detectada, fecha_hora)\n",
    "                            VALUES (%s, (SELECT id_placa_detectada FROM placadetectada WHERE placa_detectada = %s), NOW())\n",
    "                        '''\n",
    "                        cursor.execute(insert_query_deteccion, (id_vehiculo, plate_text))\n",
    "                        conn.commit()\n",
    "\n",
    "                        # Mostrar resultado autorizado o no autorizado\n",
    "                        status_text = \"Autorizado\" if id_vehiculo else \"No autorizado\"\n",
    "                        color = (0, 255, 0) if id_vehiculo else (0, 0, 255)\n",
    "                        cv2.putText(frame, f\"{status_text}: {plate_text}\", (x, y - 10), cv2.FONT_HERSHEY_SIMPLEX, 1, color, 2)\n",
    "                        print(f\"Matricula detectada: {plate_text} - {status_text}\")\n",
    "\n",
    "                        # Enviar comando al Arduino dependiendo del estado\n",
    "                        comando_arduino = 'A' if id_vehiculo else 'D'\n",
    "                        enviar_comando_arduino(comando_arduino)\n",
    "\n",
    "                        # Mostrar resultados en la ventana\n",
    "                        mostrar_resultados_en_ventana(plate_text, status_text, propietario, fecha_hora)\n",
    "\n",
    "                        # Actualizar el tiempo de la última detección\n",
    "                        last_detection_time = current_time\n",
    "                        break  # Salir del bucle después de procesar una matrícula\n",
    "                except Exception as e:\n",
    "                    print(f\"Error al procesar la imagen de la placa: {e}\")\n",
    "\n",
    "        cv2.imshow('Deteccion de Placas', frame)\n",
    "\n",
    "        if cv2.waitKey(1) & 0xFF == ord('q'):\n",
    "            break\n",
    "\n",
    "    cap.release()\n",
    "    cv2.destroyAllWindows()\n",
    "    cursor.close()\n",
    "    conn.close()\n",
    "# Llamar a la función\n",
    "detect_license_plate_from_camera()"
   ]
  },
  {
   "cell_type": "code",
   "execution_count": null,
   "id": "4add2c5d-9a67-4722-8beb-cba94ed4c83a",
   "metadata": {
    "editable": true,
    "slideshow": {
     "slide_type": ""
    },
    "tags": []
   },
   "outputs": [],
   "source": [
    "\n"
   ]
  }
 ],
 "metadata": {
  "kernelspec": {
   "display_name": "Python 3 (ipykernel)",
   "language": "python",
   "name": "python3"
  },
  "language_info": {
   "codemirror_mode": {
    "name": "ipython",
    "version": 3
   },
   "file_extension": ".py",
   "mimetype": "text/x-python",
   "name": "python",
   "nbconvert_exporter": "python",
   "pygments_lexer": "ipython3",
   "version": "3.11.0rc2"
  }
 },
 "nbformat": 4,
 "nbformat_minor": 5
}
